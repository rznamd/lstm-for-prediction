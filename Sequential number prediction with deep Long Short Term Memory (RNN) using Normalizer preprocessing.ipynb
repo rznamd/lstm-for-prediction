{
 "cells": [
  {
   "cell_type": "code",
   "execution_count": 1,
   "metadata": {},
   "outputs": [],
   "source": [
    "# importing necessary libraries\n",
    "\n",
    "import matplotlib.pyplot as plt\n",
    "import numpy as np\n",
    "%matplotlib inline\n",
    "\n",
    "from tensorflow import keras\n",
    "from sklearn.preprocessing import Normalizer\n",
    "from sklearn.model_selection import train_test_split"
   ]
  },
  {
   "cell_type": "code",
   "execution_count": 2,
   "metadata": {
    "scrolled": true
   },
   "outputs": [],
   "source": [
    "# Building synthetic chronological series of numbers dataset\n",
    "\n",
    "data = np.arange(0,200)\n",
    "data = np.array(data, dtype=float)"
   ]
  },
  {
   "cell_type": "code",
   "execution_count": 3,
   "metadata": {
    "scrolled": true
   },
   "outputs": [],
   "source": [
    "# Scaling down the raw data with Normalizer()\n",
    "\n",
    "data_scaled = Normalizer(norm='l2').fit_transform(data.reshape(1,-1))"
   ]
  },
  {
   "cell_type": "code",
   "execution_count": 4,
   "metadata": {},
   "outputs": [],
   "source": [
    "data_scaled = data_scaled.flatten()"
   ]
  },
  {
   "cell_type": "code",
   "execution_count": 5,
   "metadata": {},
   "outputs": [],
   "source": [
    "# Splitting the scaled data into training dataset\n",
    "\n",
    "training_dataset = data_scaled[:-10]"
   ]
  },
  {
   "cell_type": "code",
   "execution_count": 6,
   "metadata": {},
   "outputs": [],
   "source": [
    "# Splitting the scaled data into test dataset, this dataset won't be used in LSTM model training\n",
    "\n",
    "test_dataset = data_scaled[-15:]"
   ]
  },
  {
   "cell_type": "code",
   "execution_count": 7,
   "metadata": {},
   "outputs": [],
   "source": [
    "data_scaled = data_scaled.flatten()"
   ]
  },
  {
   "cell_type": "code",
   "execution_count": 8,
   "metadata": {},
   "outputs": [
    {
     "name": "stdout",
     "output_type": "stream",
     "text": [
      "X.Shape: (185, 5, 1) Y.Shape: (185,)\n"
     ]
    }
   ],
   "source": [
    "# Preparing the training dataset for LSTM input \n",
    "\n",
    "T = 5\n",
    "X = []\n",
    "Y = []\n",
    "\n",
    "for t in range(len(training_dataset)-T):\n",
    "  x = training_dataset[t:t+T]\n",
    "  X.append(x)\n",
    "  y = training_dataset[t+T]\n",
    "  Y.append(y)\n",
    "X = np.array(X).reshape(-1, T, 1)\n",
    "Y = np.array(Y)\n",
    "N = len(X)\n",
    "print(\"X.Shape:\",X.shape, \"Y.Shape:\", Y.shape)"
   ]
  },
  {
   "cell_type": "code",
   "execution_count": 9,
   "metadata": {},
   "outputs": [
    {
     "name": "stdout",
     "output_type": "stream",
     "text": [
      "X_test.Shape: (10, 5, 1) Y_test.Shape: (10,)\n"
     ]
    }
   ],
   "source": [
    "# Preparing the test dataset for series of numbers prediction with LSTM trained model \n",
    "\n",
    "T = 5\n",
    "X_test = []\n",
    "Y_test = []\n",
    "\n",
    "for t in range(len(test_dataset)-T):\n",
    "  x = test_dataset[t:t+T]\n",
    "  X_test.append(x)\n",
    "  y = test_dataset[t+T]\n",
    "  Y_test.append(y)\n",
    "X_test = np.array(X_test).reshape(-1, T, 1)\n",
    "Y_test = np.array(Y_test)\n",
    "NN = len(X_test)\n",
    "\n",
    "print(\"X_test.Shape:\",X_test.shape, \"Y_test.Shape:\", Y_test.shape)"
   ]
  },
  {
   "cell_type": "code",
   "execution_count": 10,
   "metadata": {},
   "outputs": [
    {
     "name": "stdout",
     "output_type": "stream",
     "text": [
      "x_train.shape: (148, 5, 1) x_test.shape: (37, 5, 1) y_train.shape: (148,) y_test.shape: (37,)\n"
     ]
    }
   ],
   "source": [
    "# Splitting training dataset again into x_train, x_test, y_train, y_test\n",
    "\n",
    "x_train, x_test, y_train, y_test = train_test_split(X, Y, test_size=0.2, shuffle=False)\n",
    "print(\"x_train.shape:\",x_train.shape, \"x_test.shape:\",x_test.shape, \"y_train.shape:\",y_train.shape, \"y_test.shape:\",y_test.shape)"
   ]
  },
  {
   "cell_type": "code",
   "execution_count": 11,
   "metadata": {},
   "outputs": [
    {
     "name": "stderr",
     "output_type": "stream",
     "text": [
      "WARNING: Logging before flag parsing goes to stderr.\n",
      "W0720 21:59:38.086131 26088 deprecation.py:506] From C:\\Users\\22458147\\AppData\\Local\\Continuum\\anaconda3\\lib\\site-packages\\tensorflow\\python\\ops\\init_ops.py:1251: calling VarianceScaling.__init__ (from tensorflow.python.ops.init_ops) with dtype is deprecated and will be removed in a future version.\n",
      "Instructions for updating:\n",
      "Call initializer instance with the dtype argument instead of passing it to the constructor\n"
     ]
    }
   ],
   "source": [
    "# Building LSTM model \n",
    "\n",
    "model = keras.Sequential()\n",
    "model.add(keras.layers.LSTM((40), batch_input_shape=(None,5,1), return_sequences=True))\n",
    "model.add(keras.layers.LSTM((1), return_sequences=False))\n",
    "model.compile(loss='mean_absolute_error', optimizer='adam', metrics=['accuracy'])"
   ]
  },
  {
   "cell_type": "code",
   "execution_count": 12,
   "metadata": {},
   "outputs": [
    {
     "name": "stdout",
     "output_type": "stream",
     "text": [
      "Model: \"sequential\"\n",
      "_________________________________________________________________\n",
      "Layer (type)                 Output Shape              Param #   \n",
      "=================================================================\n",
      "lstm (LSTM)                  (None, 5, 40)             6720      \n",
      "_________________________________________________________________\n",
      "lstm_1 (LSTM)                (None, 1)                 168       \n",
      "=================================================================\n",
      "Total params: 6,888\n",
      "Trainable params: 6,888\n",
      "Non-trainable params: 0\n",
      "_________________________________________________________________\n"
     ]
    }
   ],
   "source": [
    "model.summary()"
   ]
  },
  {
   "cell_type": "code",
   "execution_count": 13,
   "metadata": {},
   "outputs": [
    {
     "name": "stderr",
     "output_type": "stream",
     "text": [
      "W0720 21:59:40.859479 26088 deprecation.py:323] From C:\\Users\\22458147\\AppData\\Local\\Continuum\\anaconda3\\lib\\site-packages\\tensorflow\\python\\ops\\math_grad.py:1250: add_dispatch_support.<locals>.wrapper (from tensorflow.python.ops.array_ops) is deprecated and will be removed in a future version.\n",
      "Instructions for updating:\n",
      "Use tf.where in 2.0, which has the same broadcast rule as np.where\n"
     ]
    },
    {
     "name": "stdout",
     "output_type": "stream",
     "text": [
      "Train on 148 samples, validate on 37 samples\n",
      "Epoch 1/1000\n",
      "148/148 [==============================] - 1s 10ms/sample - loss: 0.0435 - acc: 0.0000e+00 - val_loss: 0.0857 - val_acc: 0.0000e+00\n",
      "Epoch 2/1000\n",
      "148/148 [==============================] - 0s 273us/sample - loss: 0.0279 - acc: 0.0000e+00 - val_loss: 0.0596 - val_acc: 0.0000e+00\n",
      "Epoch 3/1000\n",
      "148/148 [==============================] - 0s 256us/sample - loss: 0.0221 - acc: 0.0000e+00 - val_loss: 0.0450 - val_acc: 0.0000e+00\n",
      "Epoch 4/1000\n",
      "148/148 [==============================] - 0s 293us/sample - loss: 0.0230 - acc: 0.0000e+00 - val_loss: 0.0412 - val_acc: 0.0000e+00\n",
      "Epoch 5/1000\n",
      "148/148 [==============================] - 0s 243us/sample - loss: 0.0221 - acc: 0.0000e+00 - val_loss: 0.0456 - val_acc: 0.0000e+00\n",
      "Epoch 6/1000\n",
      "148/148 [==============================] - 0s 280us/sample - loss: 0.0205 - acc: 0.0000e+00 - val_loss: 0.0502 - val_acc: 0.0000e+00\n",
      "Epoch 7/1000\n",
      "148/148 [==============================] - 0s 384us/sample - loss: 0.0202 - acc: 0.0000e+00 - val_loss: 0.0528 - val_acc: 0.0000e+00\n",
      "Epoch 8/1000\n",
      "148/148 [==============================] - 0s 283us/sample - loss: 0.0194 - acc: 0.0000e+00 - val_loss: 0.0488 - val_acc: 0.0000e+00\n",
      "Epoch 9/1000\n",
      "148/148 [==============================] - 0s 310us/sample - loss: 0.0185 - acc: 0.0000e+00 - val_loss: 0.0426 - val_acc: 0.0000e+00\n",
      "Epoch 10/1000\n",
      "148/148 [==============================] - 0s 297us/sample - loss: 0.0177 - acc: 0.0000e+00 - val_loss: 0.0387 - val_acc: 0.0000e+00\n",
     ]
    },
   
    {
     "name": "stdout",
     "output_type": "stream",
     "text": [
      
      "Epoch 989/1000\n",
      "148/148 [==============================] - 0s 297us/sample - loss: 2.0939e-04 - acc: 0.0000e+00 - val_loss: 3.8159e-04 - val_acc: 0.0000e+00\n",
      "Epoch 990/1000\n",
      "148/148 [==============================] - 0s 243us/sample - loss: 3.2164e-04 - acc: 0.0000e+00 - val_loss: 3.0999e-04 - val_acc: 0.0000e+00\n",
      "Epoch 991/1000\n",
      "148/148 [==============================] - 0s 310us/sample - loss: 3.8467e-04 - acc: 0.0000e+00 - val_loss: 1.7011e-04 - val_acc: 0.0000e+00\n",
      "Epoch 992/1000\n",
      "148/148 [==============================] - 0s 330us/sample - loss: 3.6259e-04 - acc: 0.0000e+00 - val_loss: 9.6091e-04 - val_acc: 0.0000e+00\n",
      "Epoch 993/1000\n",
      "148/148 [==============================] - 0s 283us/sample - loss: 3.0342e-04 - acc: 0.0000e+00 - val_loss: 0.0011 - val_acc: 0.0000e+00\n",
      "Epoch 994/1000\n",
      "148/148 [==============================] - 0s 310us/sample - loss: 8.3489e-04 - acc: 0.0000e+00 - val_loss: 1.3463e-04 - val_acc: 0.0000e+00\n",
      "Epoch 995/1000\n",
      "148/148 [==============================] - 0s 317us/sample - loss: 6.9044e-04 - acc: 0.0000e+00 - val_loss: 4.4740e-04 - val_acc: 0.0000e+00\n",
      "Epoch 996/1000\n",
      "148/148 [==============================] - 0s 317us/sample - loss: 6.0670e-04 - acc: 0.0000e+00 - val_loss: 2.3954e-04 - val_acc: 0.0000e+00\n",
      "Epoch 997/1000\n",
      "148/148 [==============================] - 0s 290us/sample - loss: 6.8093e-04 - acc: 0.0000e+00 - val_loss: 7.1178e-04 - val_acc: 0.0000e+00\n",
      "Epoch 998/1000\n",
      "148/148 [==============================] - 0s 270us/sample - loss: 6.4821e-04 - acc: 0.0000e+00 - val_loss: 0.0014 - val_acc: 0.0000e+00\n",
      "Epoch 999/1000\n",
      "148/148 [==============================] - 0s 290us/sample - loss: 5.9374e-04 - acc: 0.0000e+00 - val_loss: 0.0012 - val_acc: 0.0000e+00\n",
      "Epoch 1000/1000\n",
      "148/148 [==============================] - 0s 321us/sample - loss: 7.0914e-04 - acc: 0.0000e+00 - val_loss: 1.3504e-04 - val_acc: 0.0000e+00\n"
     ]
    }
   ],
   "source": [
    "# Fitting splitted dataset into the model\n",
    "\n",
    "r = model.fit(x_train.reshape(148,5,1), y_train, epochs=1000, validation_data=(x_test.reshape(37,5,1), y_test))"
   ]
  },
  {
   "cell_type": "code",
   "execution_count": 14,
   "metadata": {
    "scrolled": true
   },
   "outputs": [
    {
     "data": {
      "image/png": "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\n",
      "text/plain": [
       "<Figure size 432x288 with 1 Axes>"
      ]
     },
     "metadata": {},
     "output_type": "display_data"
    }
   ],
   "source": [
    "plt.style.use('ggplot')\n",
    "plt.plot(r.history['loss'], label=\"Loss\")\n",
    "plt.plot(r.history['val_loss'], label=\"Val Loss\")\n",
    "plt.legend()\n",
    "plt.show()"
   ]
  },
  {
   "cell_type": "code",
   "execution_count": 15,
   "metadata": {},
   "outputs": [],
   "source": [
    "# Predicting y_test when x_test is feeded into the model\n",
    "\n",
    "result = model.predict(x_test.reshape(37,5,1))"
   ]
  },
  {
   "cell_type": "code",
   "execution_count": 16,
   "metadata": {},
   "outputs": [
    {
     "data": {
      "text/plain": [
       "array([153., 154., 155., 156., 157., 158., 159., 160., 161., 162., 163.,\n",
       "       164., 165., 166., 167., 168., 169., 170., 171., 172., 173., 174.,\n",
       "       175., 176., 177., 178., 179., 180., 181., 182., 183., 184., 185.,\n",
       "       186., 187., 188., 189.], dtype=float32)"
      ]
     },
     "execution_count": 16,
     "metadata": {},
     "output_type": "execute_result"
    }
   ],
   "source": [
    "# reversing predicted y_test values and rounding up\n",
    "\n",
    "w = np.sqrt(sum(data**2))\n",
    "np.round(result*w).flatten()"
   ]
  },
  {
   "cell_type": "code",
   "execution_count": 17,
   "metadata": {},
   "outputs": [
    {
     "data": {
      "text/plain": [
       "array([153., 154., 155., 156., 157., 158., 159., 160., 161., 162., 163.,\n",
       "       164., 165., 166., 167., 168., 169., 170., 171., 172., 173., 174.,\n",
       "       175., 176., 177., 178., 179., 180., 181., 182., 183., 184., 185.,\n",
       "       186., 187., 188., 189.])"
      ]
     },
     "execution_count": 17,
     "metadata": {},
     "output_type": "execute_result"
    }
   ],
   "source": [
    "# adjusting predicited y_test by rounding\n",
    "\n",
    "y_test*w"
   ]
  },
  {
   "cell_type": "code",
   "execution_count": 18,
   "metadata": {
    "scrolled": true
   },
   "outputs": [
    {
     "data": {
      "image/png": "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\n",
      "text/plain": [
       "<Figure size 432x288 with 1 Axes>"
      ]
     },
     "metadata": {},
     "output_type": "display_data"
    }
   ],
   "source": [
    "plt.style.use('ggplot')\n",
    "plt.scatter(range(37), result, c='r', label=\"Predicted\")\n",
    "plt.scatter(range(37),y_test, c='b', label=\"Original\")\n",
    "plt.legend(loc =\"lower right\")\n",
    "plt.show()"
   ]
  },
  {
   "cell_type": "code",
   "execution_count": 19,
   "metadata": {},
   "outputs": [
    {
     "data": {
      "image/png": "iVBORw0KGgoAAAANSUhEUgAAAYQAAAD8CAYAAAB3u9PLAAAABHNCSVQICAgIfAhkiAAAAAlwSFlzAAALEgAACxIB0t1+/AAAADl0RVh0U29mdHdhcmUAbWF0cGxvdGxpYiB2ZXJzaW9uIDMuMC4zLCBodHRwOi8vbWF0cGxvdGxpYi5vcmcvnQurowAAIABJREFUeJzt3WlAVGXfx/HvLOw7g2gqamLmrimpmRuKtt2ZqeldmpmVmVtqQuKuiSu445KpkZphltlmGplLmoUWmnJr4JYKijDIOizDnOeFyZOpQTgwM/D/vGpmzjnzm5Pw4zrLNSpFURSEEEJUeWpLBxBCCGEdpBCEEEIAUghCCCH+JIUghBACkEIQQgjxJykEIYQQgBSCEEKIP0khCCGEAKQQhBBC/EkKQQghBABaSwf4t5KSksq0no+PD6mpqWZOY362khNsJ6vkNC9byQm2k7W8c9asWbNUy8kIQQghBCCFIIQQ4k9SCEIIIQApBCGEEH+SQhBCCAFIIQghhPiTFIIQQghACkEIIaza5csapk1zx2gs//eSQhBCCCtkMsH77zsTGFiNLVucOXnSrtzfUwpBCCGsTGKihr59dUye7MnD9VP45cF+tKqvL/f3lUIQQggrYTTCihWu9Ozpy+n/aVkdEMme3+7DP/1XNMnJ5f7+NjeXkRBCVEYnTmiZMMGT336z5+kWCay68DQ1486QPWYMWWPGgJNTuWeQEYIQQlhQXh5Mm6bhySerceUybHlwMp8fb0i1B9y4tns3WW+/XSFlADJCEEIIi4mNtWfCBA8SEzUMbBrL0oReeBlzuT5vHrkDB4K6Yv9mlxGCEEJUsJwcFVOnuvPsszryMwr5xu8VNp1si/PjbUnZt4/cF1+s8DKAUo4Q4uLi2LBhAyaTie7du9O7d+9bXo+PjycqKooLFy4wduxY2rdvX/xaWFgYCQkJNGrUiIkTJxY/HxkZSXx8PM7OzgCMHDmSevXqmeEjCSGE9dq3z4GQEA8uX9bwesPdLDzdF5e6PqRt3Eh+t24WzVZiIZhMJtatW8eUKVPQ6XSEhoYSEBBA7dq1i5fx8fFhxIgRfPHFF7et36tXL/Lz84mJibnttRdffPGW8hBCiMoqPV3FrFkebN3qzAPV09nrPohOibvIGf4ahXPmkG8wWDpiyYeMEhMTqVGjBtWrV0er1dKhQwdiY2NvWcbX15e6deuiUqluW7958+Y4VdAJESGEsEZffeVIYKAvn3ziREidTRy/eh/t613m2tdfkzl1Kri4WDoiUIoRgl6vR6fTFT/W6XQkJCSY5c23bNnCtm3baNasGQMHDsTOrvzvxBNCiIqSkqJm8mQPvv7aiRbVk/hG8yyt0k6SNWsyOUOGgEZj6Yi3KLEQFEW57bk7jQT+rRdeeAFPT0+MRiNr1qxhx44d9OvX77blYmJiig83zZs3Dx8fnzK9n1arLfO6FclWcoLtZJWc5mUrOcFyWRUFNm5UExKiITdHYU71JUy4Gozm6ScwLv4QJz8//nrcxFr2aYmFoNPpSEtLK36clpaGl5fXPb/xzW3Y2dkRGBh4x/MPAEFBQQQFBRU/LusXUcuXbZufrWSVnOZlKznBMlkvXtQQEuLB/v32PFL9d9an9+IBVQYZ760m74knbiz0t0zlnbNmzZqlWq7Ecwj+/v4kJyeTkpKC0Wjk0KFDBAQE3HPA9PR04MYIJDY2Fj8/v3vephBCWEpREaxf70K3btU4+pOa5e4TOXC1MbVf7kDK3r3/XwZWrMQRgkajYejQoYSFhWEymQgMDMTPz4/o6Gj8/f0JCAggMTGR8PBwcnJyOHr0KFu3bmXRokUATJs2jcuXL5OXl8fw4cMZPnw4rVq1YtmyZWRmZgJQt25dhg0bVr6fVAghyklCwo1pJ44csaeHTyxrU/tRs74L+s07KGzd2tLxSk2l3OkkgRVLSkoq03q2Msy1lZxgO1klp3nZSk4o/6yFhbBypStLlrjhojGw2PQmg9hEzoS3yH7tNSjlhTLWcshIpq4QQogyOH7cjrfe8iQ+3o5+nrtZcf1FPLo2IXXOHorq1rV0vDKRQhBCiH/BYIDFi91YvdoVH4dMPlEP5RntfjIjZ6J/5hkww1WYliJzGQkhRCkdPmxPjx6+REa6MdjxI/6XW4/HBjiQsncvht69bboMQEYIQghRoqwsFXPnuhMV5UI95yt8yyC61DhPxoJ1ZFSi6XdkhCCEEP9gzx4HunWrxgcfOPOm/Up+K2xM27dace3bbymoRGUAMkIQQog70utVzJjhwSefONPY6SyfKC/wUGsVGfN3YGzQwNLxyoWMEIQQ4i8UBT7/3JGuXX3Zsd2BKeowjto/QqPw50j7+ONKWwYgIwQhhCh25cqNyei++caJ1g6/scE0kAbPNiBjxreYrGCuofImhSCEqPIUBT76yJlZM90oyC1iAcGM9v2EnHmzud61q6XjVRgpBCFElXbhwo3J6H74wZHO2oOsVV7hvhHdSR//LUoV+y4XKQQhRJV0czK6+fNc0RbmsZrXealpLJkLlpHVrJml41mEnFQWQlQ5p09reaaXjhkzPAgs2MUJ+4f47zt+6L/YgbGKlgHICEEIUYUUFEBkpCtLl7jirmSwiaE8G5RG5uzN5NSqZel4FieFIISoEuLi7Jgwzp3//e7Af9nCYt8w7MPGcv3JJy0dzWpIIQghKjWDQUVEhBtrVjtTQ3WVzxhO0BBvMt/eRp67u6XjWRUpBCFEpbV/v4phQ704d9GR13iXOQ3WokRMI6NNG0tHs0pSCEKISicrS0XYbDc2brKjvuoiMXYjeHhCa7Jf31bqL62piqQQhBCVSkyMA6ETXLhyzY7xRDDlkW8oWDiT7Hr1LB3N6sllp0KISiEtTc2oN9x46SUd3tcS+cH9ceav98aw9X2KpAxKRUYIQgibdnMyuqlvO5OZpWYG03mzbwJ5MxZjatgQbOT7n62BFIIQwmYlJ6uZNMGZ3XvdactPrKk5jdqLXyG34+uWjmaTpBCEEDbHZIIPNzsxe4YzxrwiwtXBvDKikNyxKymoYvMPmZMUghDCppw7pyFktCOHfvUgkD1ENluKbumb5DZqZOloNk8KQQhhE4qKYO0aR8Lnu2JnNLDGYRTPTauFYXAkRrVcH2MOUghCCKt36pSWCcPt+DXBi6f5nEXdtuG6cCyGGjUsHa1SkUIQQlitggJYHm7P8lWeeJr0fOjxOj0XtSf/8XmYLB2uEpJCEEJYpV9/tWPCMC2nkrwYyCZmDzyCw7S3yHd1tXS0SksKQQhhVQwGFQunq1m72ZuaJPFZ7VA6rH6awodCUCwdrpKTQhBCWI2DB7SEjLDjvN6LYZq1TB13BfWoUApl/qEKIYUghLC4jAwVcyaY2PS1Lw1IYHeL6bRY9V+K6j1l6WhVihSCEMKidn+hYtJbTlzNcWOC4zLGzdbCf9+mSKWydLQqRwpBCGERqalqpg8v4LMf69CCY2ztvoUGSwZh8va2dLQqSwpBCFGhFAW2f1DE9BluZBd4MdMzgtdW+KEEjpFLSS1MCkEIUWEuX1YzeYiBb+Pvpz2HWTZwD7VmDkCR+YesghSCEKLcmUyweamBsMU1KCpyI7x2OC+sb43SdIilo4m/kEIQQpSrs78rTBxcwMGL/nTX7CHirf9Rbex/UWT+IatTqkKIi4tjw4YNmEwmunfvTu/evW95PT4+nqioKC5cuMDYsWNp37598WthYWEkJCTQqFEjJk6cWPx8SkoKS5YsITs7m/vvv5/Ro0ej1Uo/CVFZGI3w3vQMFkbdj6NiYHXzxfRa3xml5rOWjibuosSKNplMrFu3jkmTJrF48WIOHjzIpUuXblnGx8eHESNG0LFjx9vW79WrF6NGjbrt+U2bNvHUU0+xbNkyXFxc2LNnzz18DCGENYk/UkDvNgW8835jHrffw8GIb3j6mwEoNe+zdDTxD0oshMTERGrUqEH16tXRarV06NCB2NjYW5bx9fWlbt26qO5w3XDz5s1x+tsJI0VROHnyZPFIomvXrrdtUwhhe/LzYdHwazzxTC0upzqxMTCSyDh/PP/bxdLRRCmUeIxGr9ej0+mKH+t0OhISEu7pTbOysnB2dkaj0QDg7e2NXq+/47IxMTHExMQAMG/ePHx8fMr0nlqttszrViRbyQm2k1Vymtfdch7+Mo3hQ4z8L6slgzw+Z+Gmanj3fM0CCf+fre/TCs9R0gKKcvt0UncaCZSXoKAggoKCih+nlvELs318fMq8bkWylZxgO1klp3n9PWdutkLE0GTWHGyNH5f4pP8G2i/ohsnOzuKfx1b3qbnVrFmzVMuVWAg6nY60tLTix2lpaXh5eZU9GeDm5kZubi5FRUVoNBr0ej3ecneiEDbn4JZrBE+qxoWCAIbX+IQJUTVxavaYpWOJMirxHIK/vz/JycmkpKRgNBo5dOgQAQEB9/SmKpWKpk2bcvjwYQD27t17z9sUQlScjJQCJva8SP8JLXEw5vDVqK1MPdIep2Z1LR1N3AOVcqdjQn/zyy+/EBUVhclkIjAwkD59+hAdHY2/vz8BAQEkJiYSHh5OTk4OdnZ2eHp6smjRIgCmTZvG5cuXycvLw83NjeHDh9OqVSuuXr1622WndqWY4jYpKalMH1SGjuZnK1klp3kdWnuNMe/UIKVIx9iGnzNqc0Psa1rnCN9W9qm1HDIqVSFYEykE62ErWSWneaQmZjHjxXS2/9GelnYnWTTjIo2GtLB0rH9k7fv0JmspBLkTTAjxjxSTwo7Jp5iysTU5Sj1mPfo1L733IFp36y4D8e9JIQgh7ir5SAqTXi5gt747jzjHsXBpNg8PDrKJv7rFvyeFIIS4janAyEcjfmPmzs4oqJj/xE6eX9kMjb2vpaOJciSFIIS4xfmdZwkZ48zB3KcI8o5lzjo7arVtaelYogJIIQghADBm5LLh5d+Y+9MTOKsMrBi8h95hD6JSy1dZVhVSCEIITr9/jPEz/IgrfJZn/H5i5kZPqj3QyNKxRAWTQhCiCitI0rNy0GkWnX4GH0066yf8yGPj5OayqkoKQYiqSFE4Nv8HxkU+xGlTXwY1/YmJH1THq4aUQVUmhSBEFWM4+QcRL11idfJz+NlfIXr2MToO9LN0LGEFpBCEqCoKCzn89h7GRXfnIm0Z1uEX3lp/Hy5u1SydTFgJKQQhqoDsfb8x+41cNma8zIMuF/lsWQIBj5duOgNRdUghCFGJqbKz2fNGDG/t6UMqPox76hijllXD0dHN0tGEFZJCEKKSSt96gKmhrmzPG0FL7wtsXHeJpm3l8JC4OykEISoZ1ZWrfD50HxOPvYRB5cyUl+J5bZYnWvlpFyWQfyJCVBYmE6mRX/HWwgeIKRpLh9rnmPt+Dg0ae1o6mbARUghCVAKq04lsefkI0y4MQ6VWMXdcIoPGO6Mu8TsRhfh/UghC2LL8fC7P+pg3ozrxozKe7o3OMTfKiVq1nS2dTNggKQQhbJTqxyOsfT2RsLQ3cbUrYNn0P+gzxAGVymTpaMJGSSEIYWNUmZmceetDRn7dl+P04pm255n5riPVqsmPs7g38i9ICBuifLaLJcHZLMqdRjXnbNYtTOLx3vaAjArEvZNCEMIGqJOS+G1kNCN/fo0EGjLosYtMWqzFw8PSyURlIoUghDUzmTC++xFz53qw2riQup56Poq8SqeuGkCxdDpRyUghCGGltKdO8ePrOxid+BaXqM2wAUkEz1bh7CxFIMqHFIIQ1iYvj4L563h7bRM2KUt5sEYaO9ak0iYAZFQgypMUghBWxO7Qj8SM3MubKVNJV3kzfngKo0KMODhYOpmoCqQQhLACquvXufpWBKM/6sQOltOqfhofrtHTpInR0tFEFSKFIIQlKQoOn3/BpyGnCM6eQb7GmanBqbz6RoFMRicqnPyTE8JCNJcvox+7jFGHhrCH4XRuncmcZencf3+RpaOJKkoKQYiKVlSE4/ooouZkMqVgNRp7DfNm6HlznCt6fbal04kqTApBiAqkjY8nafRqhp+awE+0J+jRdOYuyadmTRNqtaul44kqTgpBiIpgMOAQsZwVazwJM32Im0sRK+bp6f1sHiqVpcMJcYMUghDlzP7gQRLe3MTrye/wGy145onrvDM/D51O5h8S1kUKQYhyokpPx276fOZ/0pxFfIqvVz4bFqXRs2e+paMJcUdSCEKYm6Lg+Pnn/DrxG4ZnhpPIAwwckMnk6Tl4eMidxsJ6SSEIYUaaS5cgeDaT9j/JGnZQ975copek0rFjgaWjCVGiUhVCXFwcGzZswGQy0b17d3r37n3L6/Hx8URFRXHhwgXGjh1L+/bti1/bu3cvn376KQB9+vSha9euAMyYMYP09HTs7e0BmDJlCh4yl6+wVUVFuKxfz765xxlRsIpk1X28/lomwSE5ODnJqEDYhhILwWQysW7dOqZMmYJOpyM0NJSAgABq165dvIyPjw8jRozgiy++uGXd7Oxstm3bxrx58wCYOHEiAQEBuLreuLxuzJgx+Pv7m/PzCFHhtCdPUjh+Lm+ceJUtTKeRfy5rlqbx0EOFlo4mxL9SYiEkJiZSo0YNqlevDkCHDh2IjY29pRB8fX0BUP3t+rm4uDhatGhRXAAtWrQgLi6Ojh07mu0DCGExBgOui5fw5Uo9b7KVDI0Xb72ZyajR2fw58BXCppRYCHq9Hp1OV/xYp9ORkJBQqo3/fV1vb2/0en3x45UrV6JWq2nXrh19+/a9rVCEsFb2Bw6QPWEJAy9N4kue5qHmuUQvSaNRI5mMTtiuEgtBUW4//nkvv7hvrjtmzBi8vb0xGAxERESwf/9+unTpctvyMTExxMTEADBv3jx8fHzK9L5arbbM61YkW8kJtpPVrDnT0lC9Hcr6jQ4Eq77F6ODE/FlGRo/WotF4Wk/OcmQrOcF2slpLzhILQafTkZaWVvw4LS0NLy+vUm3c29ub+Pj44sd6vZ4mTZoUvwbg5OREx44dSUxMvGMhBAUFERQUVPw4NTW1VO/9dz4+PmVetyLZSk6wnaxmyakoOH32GSlT3md4xkL20pUO7QwsjEilXr0i0tOtJGcFsJWcYDtZyztnzZo1S7WcuqQF/P39SU5OJiUlBaPRyKFDhwgICCjVxlu1asWxY8fIzs4mOzubY8eO0apVK4qKisjMzATAaDRy9OhR/Pz8SrVNISqa5uJF3AcNYd2oc7TKOMBRp44sXHidrdvSqVdPZiYVlUeJIwSNRsPQoUMJCwvDZDIRGBiIn58f0dHR+Pv7ExAQQGJiIuHh4eTk5HD06FG2bt3KokWLcHV1pW/fvoSGhgLQr18/XF1dycvLIywsjKKiIkwmE82bN79lFCCEVSgqwmXdOs7P+4rXClcRSwA9gwzMmZvKfffJtBOi8lEpdzpJYMWSkpLKtJ4MHc3PVrKWJaf25Emc3ppE+G//YY5qMh6eCu+EZdGrV/lNRleZ96el2EpWazlkJHcqC/FXBgNuixdzctUvvKr6gJM0ps+zucycmYm3t4wKROVW4jkEIaoK+wMHcOn2NNMj69PB9AN6nwZERaWxfPl1KQNRJcgIQVR5Kr0ej3fe4cetqbym/YZz1GHw4BwmTcrEzc2mjqgKcU9khCCqrj8vJbXv3IsxH/ckiO+gdg0++SSVuXMzpAxElSMjBFElaS5dwiM0lF17XHlD+xNXVT6MeCOL8eOzcHKydDohLEMKQVQtf85Kapi/gZcKFrKV52j8QAHrIlJp2VImoxNVmxSCqDK0J0/iERzCx8ea8qb2ONlqV4LHZzJyZDZ2dpZOJ4TlSSGIys9gwG3uXPSrvuIl9Rq+oQetWxQQEZFKw4YyGZ0QN8lJZVGp2R88iKZ1AJtWGGmmOsk+bXdmzszgs8+kDIT4OxkhiEpJlZ6O++zZXP7oKH0cN3OAtnR6JJ8FC65Rp47MPyTEncgIQVQuf37BvXeX7qyIrktLzQmO2z9MREQ6W7akSRkI8Q9khCAqDfXly3hOmsTpmBRedtrDr0oTHu9hYNUqsLc3WDqeEFZPRgjC9v15KalH18eYvbc7AepfuOjyIKtX63nvvXRKOa+XEFWejBCETdOeOoVncDBHf7FnqPMvnDLWo1+/XKZPz8DbW+40FuLfkEIQtikvD7dlyyAyimDNXJarXqemVxGb3k0jMDDf0umEsElSCMLm2B8+jEdICHvP3M9rzqe4kFudIUNyCA3NxNVVRgVClJUUgrAZqowM3MPCKNj8FcNcVvM+A6hfw8in4am0a1dg6XhC2Dw5qSxsguPXX+MbGMiuDw00dj7Pxrz+jByZxe7dKVIGQpiJjBCEVVMnJ+MxZQoZ3/xKf/cP+FTpSdP7C4mKSKV5c5mMTghzkhGCsE4mE85RUVTrGkj0d7Vo7HiWr/J7MHFiJl99dU3KQIhyICMEYXW0CQl4BAdzJfYq/T2/5dvsdgS0LCAi4hoNGsj8Q0KUFxkhCOuRn4/rokXoejzGuye60tQ+gYMFDzN79nW2b0+VMhCinMkIQVgFu9hYPENCOPs7vOz9Kz/qG9OlSx4LFlyjdm2Zf0iIiiAjBGFRqqwsPCZPxqP3cyy4MoSWdvH8z/Qgixens3mzXspAiAokIwRhMQ67d+MZGsqxK/fxsncix/V1eOopA7NnZ+Dra7J0PCGqHCkEUeHUKSl4TJ2K6stvCdUtZ5H6Fbw1CmvX6nnyyTxLxxOiypJCEBVHUXD+6CPc33mHg7mtecX7DxLSfBkwIJdp0zLw9JRpJ4SwJCkEUSE0Z8/iGRJCwY+/MbL6BlZn9KO2s5EPV6TRpYtMRieENZCTyqJ8FRbiunw5vkFBfHesBk08L7EmpS+vvJLNnj3XpAyEsCIyQhDlxi4uDs8JE8j831VerPUlmy8H0aBmIdvfT+Xhh+VOYyGsjYwQhNmpcnNxnzED3X+eZntyBxq7XyL6anfGjMli165rUgZCWCkZIQizcti7F4+JE7l2sZAX6vzEF38E0Lx5AZvCr9GsmdxpLIQ1kxGCMAt1Whqeo0fjPXAg7+e/QGOXC3yb0obJkzP58stUKQMhbICMEMS9URScPv0U9+nTuZDlw6t1TvP9Hw1p1y6fhQtT8PeXO42FsBVSCKLszp3De/hw7PbuZ6nfPKYYxqNOUzFnznVefDEXtYw/hbApUgji3zMacVm3DrvwcOKVRrxc5wKxf9SmW7c85s3LoFYtGRUIYYtKVQhxcXFs2LABk8lE9+7d6d279y2vx8fHExUVxYULFxg7dizt27cvfm3v3r18+umnAPTp04euXbsCcPbsWSIjIykoKOChhx7i5ZdfRqVSmeljifKiPXkSz+BgVMdOEtZwHe+cG4RzJixblk6fPgbkf6EQtqvEQb3JZGLdunVMmjSJxYsXc/DgQS5dunTLMj4+PowYMYKOHTve8nx2djbbtm1jzpw5zJkzh23btpGdnQ3A2rVref3111m2bBlXrlwhLi7OjB9LmJ3BgNvcuVR74gniLuh4qFYyU38fzGOP57NvXwp9+0oZCGHrSiyExMREatSoQfXq1dFqtXTo0IHY2NhblvH19aVu3bq3/YUfFxdHixYtcHV1xdXVlRYtWhAXF0d6ejoGg4GGDRuiUqno3LnzbdsU1sP+4EF8g4LQrniPCQ0/oUNWDKlGL7ZuLWT16nR8fGRmUiEqgxILQa/Xo9Ppih/rdDr0en2pNv73db29vdHr9fe0TVFxVNev4xEcjE///hzIa0uzGiks+t8zDBiQy/ffp/DMMzIZnRCVSYnnEBTl9h/6eznWr1Kp7rjNu4mJiSEmJgaAefPm4ePjU6b31Wq1ZV63IllFTkVBtX072rFjybyWzxstD7L6WAfq1VPYubOQbt3sAJ11ZC0FyWletpITbCerteQssRB0Oh1paWnFj9PS0vDy8irVxr29vYmPjy9+rNfradKkyR236e3tfcdtBAUFERQUVPw4NTW1VO/9dz4+PmVetyJZOqc6ORmPyZNx2rWLz+u9wQhdBEnHHXnttWxCQrJwdla4Gc/SWUtLcpqXreQE28la3jlr1qxZquVKPGTk7+9PcnIyKSkpGI1GDh06REBAQKk23qpVK44dO0Z2djbZ2dkcO3aMVq1a4eXlhZOTE7///juKorB///5Sb1OUE5MJ56gofLt2JWvvCQY0/5Vnzq/ExUvLjh2pzJiRibOzHCISojIrcYSg0WgYOnQoYWFhmEwmAgMD8fPzIzo6Gn9/fwICAkhMTCQ8PJycnByOHj3K1q1bWbRoEa6urvTt25fQ0FAA+vXrh6urKwCvvvoqK1eupKCggFatWvHQQw+V7ycVd6VNSMAjOBj72Fg2N5rO2CuTyfiflnHjshg9OgsHB0snFEJUBJXybw7oW4GkpKQyrSdDxzsoKMA1MhK3Zcu47FifYXW+ZOcJf1q2LCAi4jqNG//z/EOyT81LcpqfrWS1lkNGcqdyFWV35AieISFoT59mVavlhCa+QUGimqlTM3j11Ry08i9DiCpHfuyrGFV2Nm7z5uHy/vskVGvHq02SOBB3H488ks/Chde5/36ZdkKIqkoKoQpxiInBc+JElOQU5rfdzMzjA9Dmwvz513nhBZmMToiqTn4FVAHq1FQ8R4xA99JLHHdoQ/uG1wj9+XkefbSA779PYdAgKQMhhIwQKjdFwenjj/GYOZPCnEImddhFeGwP3NxMrFiRTu/eMv+QEOL/SSFUUpoLF/B8+20cDhzgYOPBvJoXyalDrjz7bC4zZ2ai08n8Q0KIW0khVDZGIy7vvYfbwoXkatyY0PEwKw+1xdfXxIYNafTsmW/phEIIKyWFUIloT5zAMzgY++PH2RUwgeFX3uH8D44MGpTD5MmZuLvb1C0nQogKJoVQGRgMuC1ejOvq1aR71mV8p5NEHWhCvXpGtm5N5dFHCyydUAhhA6QQbJz9wYM3bjA7f55tnRcw5vRYrh7UMnx4NhMmZOHkJKMCIUTpSCHYKNX167iHheHy4Yck+7Vm1KN7+XR/XRo1KmTtulQeeqjQ0hGFEDZGCsHWKAqOX32Fx5QpqNL0rO+xnuAjg8n6Wc2ECZmMHJmNvb2lQwohbJEUgg1RJyfjMWUKTt98w9lGQQyv/yHffluNhx4qIDwhgIaPAAAU0klEQVQ8jUaN/nkyOiGE+CdSCLbAZMJ50ybc58zBVGBk6ZOfMfXA0xSeh+nTM3jllRw0GkuHFELYOikEK6dNTMQjOBiHn38mvs0AhilrOPi1Bx063JiMrl49mYxOCGEeUgjWqqAA15UrcVu6lEInN97ptZc5uzthZwcLFtyYjE6mnRBCmJMUghWy++UXPIODsTt1itiuoxl2bR5xnzvTs6eBOXMyuO8+mXZCCGF+UghWRJWTg2buXHwiIzFUr8OkXr+y5OuWeHiYWLlST69eeTIqEEKUGykEK+Hw/fd4TJyI+vJl9j05k+G/h3D6cwf69LkxGZ23t4wKhBDlSwrBwtR6Pe7Tp+P86adc92/BjL6HWPZJbWrUMBEVlUZQkExGJ4SoGFIIlqIoOG3fjvv06aizsvii70pG/fwqf2yzY/DgHCZNysTNTaadEJWfoijk5eVhMplQmfmY6NWrV8nPt/4/qsyRU1EU1Go1jo6OZd6PUggWoLl0CY+JE3H8/ntSmndivN9HbP6kJvXqGfn220KaNMmwdEQhKkxeXh52dnZoteb/daTVatHYwE065sppNBrJy8vDycmpTOvLFydWpKIiXN57j2qBgdj/9BMfvhBNi6vfs+Wb+xgxIouYmBQ6d5ZRgahaTCZTuZRBVaTVajGZyn6+Uf4vVBDtqVN4TpiA/a+/8kfHPoxxfJcdH+po3LiQDe/radlSJqMTVZO5DxNVdfeyP2WEUN7y83FbuJBqjz2G+vwF3h28i1Ynt7JzvzchIZns3HlNykAIC/Pz86NHjx5069aNYcOGYTAYyrytQ4cOMXjwYAB2797NihUr7rpsRkYG77///r9+j4iICFavXl3WiHclhVCO7H/+mWo9e+K2ZAkJPYbyeLPzvP5BT+rXL2L37mu8+WY2dnaWTimEcHR05Ntvv2XPnj3Y29vzwQcf3PK6oihlOhTTs2dPRo0addfXMzMzb3svS5JCKAeqrCw8QkPxefZZFEM+C1/+iTYHVnHoiAuzZmWwfXsqDzwgM5MKYY3atm3L+fPnuXjxIl26dCE0NJTHHnuMpKQk9u3bx9NPP81jjz3GsGHDyMnJAeD777+nc+fO9O7dm507dxZvKzo6msmTJwNw7do1XnnlFYKCgggKCiI2NpY5c+Zw4cIFunXrxjvvvAPAqlWrePLJJwkKCiI8PLx4W0uXLqVTp04MGDCAM2fOlMtnl3MIZuawezeeoaGor14l7rlJvHF+Moc3ONO5cx4LFmTg5yeT0QlxN+7TpmEXH2+27alUKgoaNyZz1qxSLW80Gvn+++/p2rUrAGfOnGHRokXMnTsXvV7P0qVLiY6OxtnZmcjISN59913eeOMNgoOD2bp1K/fffz/Dhw+/47anTp1K+/btWbduHUVFReTk5DBp0iROnz7Nnj17MBqN7Nu3j3PnzvHVV1+hKApDhgzh8OHDODs78/nnn7N7926MRiOPP/44LVq0MNduKiaFYCbqa9fwmDoVpy++wPBgU+Y+voeFHzXCwUFh0aJ0+vc3yLQTQlipvLw8evToAUC7du14/vnnuXr1KrVr16ZNmzYAHD16lN9//51nnnkGgMLCQtq0aUNiYiJ16tShfv36APTt25dNmzbd9h4HDx5k6dKlAGg0Gtzd3cnIuPUS83379rFv3z569uwJQG5uLufOnSM7O5vHH3+8+HLSm1nNTQrhXikKTlu34jFrFqrcXA6+tIg3jo7gt/cdeOIJA2FhGVSvLtNOCFEapf1LvrS0Wi1GY8mHZ2+eQ/g7Z2fn4v9WFIXOnTuzcuXKW5Y5ceKE2a6UUhSFUaNG8eKLL97y/Nq1ayvkaiw5h3APNBcuoPvvf/EaP57sBk1567+/03XzWJKvaFmzRs9776VLGQhRSbRp04bY2FjOnTsHgMFg4MyZMzRo0IA//viD8+fPA/DZZ5/dcf2OHTsWn0AuKioiKysLFxcXsrOzi5fp2rUr0dHRxecmkpOTSU1NpX379nzzzTcYDAays7PvWF7mICOEsjAacXnvPdwWLgStlt3Doxj13fMkfGBHv365TJ+egbe33GAmRGWi0+lYvHgxI0eOpKCgAICQkBD8/f1ZsGABgwcPxtvbm7Zt23Lq1Knb1p81axYhISF89NFHqNVq5s6dS0BAAA8//DCdO3cmMDCQqVOnkpCQQK9evYAbI5Tly5fTvHlznn76aXr27Ent2rVp165duXxGlaIoNvWbKykpqUzr+fj4kJqaes/vrz1xAs/gYOyPH+dat15M8n2XddG+1KxZxPz5GQQG3tt8JObKWRFsJavkNC9z58zNzb3l0Iw5lfaQkaWZM+ed9mfNmjVLl8MsCaoCgwG3JUtwXbUKk5cXn4z5gnHbH+fiHi0vv5zNxIlZuLraVLcKIcQtpBBKwf7HH/EMDkZ77hyXnx3KW0o40cu88PcvZPv2VNq2LbB0RCGEuGdSCP9AlZGBe1gYLps3Y6xbl/fHHeDtzY+QlqZm1Kgsxo3LwtHR0imFEMI8SlUIcXFxbNiwAZPJRPfu3endu/ctrxcWFrJixQrOnj2Lm5sbY8eOxdfXF6PRyLvvvsuZM2dQq9UMGTKEpk2bAjBjxgzS09Oxt7cHYMqUKXh4eJj545Wd486deEyejPraNc4MDuHNq1P5arErzZoVsHFjGs2aWf9xSSGE+DdKLASTycS6deuYMmUKOp2O0NBQAgICqF27dvEye/bswcXFheXLl3Pw4EE2b97MuHHjiImJAW5MxJSRkcGcOXOYO3cuavWNq13HjBmDv79/OX20slFfvYrHlCk4ff01BY2bsHLgt0xb3xSDQcXEiZkMHy7zDwkhKqcS70NITEykRo0aVK9eHa1WS4cOHYiNjb1lmSNHjhTf6t2+fXtOnDiBoihcunSJZs2aAeDh4YGLiwtnz541/6cwB0XBecsWfAMDcfzuO357Yz49fY4wZlFzGjYsZPfuFEaPljIQQlReJY4Q9Ho9Op2u+LFOpyMhIeGuy2g0GpydncnKyqJevXocOXKERx99lLS0NM6ePUtqaioNGjQAYOXKlajVatq1a0ffvn3veCdeTExM8Uhj3rx5+Pj4lO2DarV3XzcxEe3Ikaj37sXYqQvLH/2QqcvvQ6WCJUuMvP66CrXaq0zva9acVsZWskpO8zJ3zqtXr5brF+SUdttJSUlMnDiR33//HZPJRI8ePZg+fXrxYe2brly5wuTJk1m3bt0/bu+FF15g1apVpT4U/tecCxcuxMXFhREjRpRq3b9ycHAo++/Jkha4020Kf//FfbdlAgMDuXTpEhMnTqRatWo8+OCDxV8TN2bMGLy9vTEYDERERLB//366dOly23Zuzgx4U1mvf77jtdNGI67vvotbRASKnR0/T3iPUfsGETvPga5d85g/P4PatYvQ68v0lubLaaVsJavkNC9z58zPzy+3r7ks7fX9iqLw8ssvM3jwYNavX09RUREhISGEhYUxderU4uWMRiM+Pj6sWbOmxO3evCu5NO//95wmkwmTyVSmexPy8/Nv+/9jtvsQdDodaWlpxY/T0tLw8vK64zI6nY6ioiJyc3NxdXVFpVIxZMiQ4uWmTJnCfffdB4C3tzcATk5OdOzYkcTExDsWQnnRnjiB51tvYX/iBJmP/Yd5DVazaHlNnJwUlixJp18/mYxOiKrihx9+wMHBgQEDBgA3jnTMmDGD9u3b4+fnx6FDh8jPzyc3N5dFixbx0ksvsWfPHgwGA2PHji2ewuLSpUuEhYXRsmVL2rVrx86dO8nJyWHQoEG0bduWI0eOUKNGDdavX4+TkxObN29m8+bNFBYWUq9ePZYtW1bm70M2hxILwd/fn+TkZFJSUvD29ubQoUOMGTPmlmXatGnD3r17adiwIYcPH6Zp06aoVCry8/NRFAVHR0eOHz+ORqOhdu3axVO/uru7YzQaOXr0KM2bNy+3D3kLgwG3xYtxXb0ak07H3imfMGr705zcZcdTT92YjK5aNZl/SAhLmDbNnfh4852oU6lUNG5cwKxZmf+43O+//37b7yA3Nzdq1apFUVERR48eJSYmBi8vLy5evFi8TFRUFB4eHsTExHDq1KniWUr/7ty5c0RGRrJw4UJef/11vv76a/r27csTTzzBwIED0Wq1hIWFsWXLFoYOHXrvH7yMSiwEjUbD0KFDCQsLw2QyERgYiJ+fH9HR0fj7+xMQEEC3bt1YsWIFo0ePxtXVlbFjxwI3vh4uLCwMtVqNt7d38TcHFRYWEhYWRlFRESaTiebNm99yWKi82B86dOMGs/PnSX1uMDM9Ilg1V4dOZ2LtWj1PPplX7hmEENZHUZQ7nsO8+Xznzp1vOzIC8PPPP/PKK68A0KhRIxo3bnzH7fv5+RVfYNOiRYviUjl9+jQLFiwgMzOTnJycCj1KcielOtvSunVrWrdufctzN4dWAPb29owfP/629Xx9fYvn//4rR0dH5s+f/2+zlpkqIwPN1Kn4rF+PsV49vpz5HW9GdebsWS0DBuQybVoGnp4y7YQQllbSX/L/VmnPITRs2JCvv/76lueysrJISkpCrVbfda6l0k4F5+DgUPzfGo2GvLwbf3yOGzeOdevW0bJlSzZv3syPP/5Yqu2Vlyox/bX3kCGoo6JIenUcr3WM4+np3SgshC1b0li06LqUgRBVXKdOnTAYDHz88cfAjempZ82aRf/+/f/xmH7btm354osvgBuHne40y+k/yc7Opnr16hQWFrJ9+/ayfwAzqRKFkDVpEl+Fn6DtzgVEbXbnlVey+e67a3TufG8zkwohKgeVSsV7773Hl19+yaOPPkqnTp1wcHBg4sSJ/7jeSy+9RFpaGkFBQURGRtK4cWPc3NxK/b7BwcH85z//oX///sWX41tSlZj+OiTEg82bXXjggULCw68TEFBYDsnMw1YuPQTbySo5zUumv/5/RUVFFBYW4ujoyPnz5xkwYAAHDhy47d6Fksj01xXo/vuNhIYW8dpr1/jLoTwhhLgnBoOB5557jsLCG39kzp0791+XgTWpEoXwxhs5+Pg4YQN/fAkhbIirqys7d+60dAyzqRLnEIQQQpRMCkEIYVE2dhrT6t3L/pRCEEJYlFqttonvPbYFRqOx+OsFyqJKnEMQQlgvR0dH8vLyyM/Pv+PdwvfCwcGB/Hzrv7zcHDkVRUGtVuN4D1/jKIUghLAolUpVbhO6VdVLectKDhkJIYQApBCEEEL8SQpBCCEEYINTVwghhCgfVWaEUNIkVdbCVnKC7WSVnOZlKznBdrJaS84qUwhCCCH+mRSCEEIIADQzZsyYYekQFaV+/fqWjlAqtpITbCer5DQvW8kJtpPVGnLKSWUhhBCAHDISQgjxpyoxdUVcXBwbNmzAZDLRvXt3evfubelIdzRy5EgcHR1Rq9VoNBrmzZtn6UgArFy5kl9++QUPDw8iIiKAG98Fu3jxYq5du0a1atUYN24crq6uFk5656xbt27lu+++w93dHYDnn3+e1q1bWzImqampREZGcv36dVQqFUFBQTz55JNWt1/vltPa9mlBQQHTp0/HaDRSVFRE+/bt6d+/PykpKSxZsoTs7Gzuv/9+Ro8ejVZruV97d8sZGRlJfHx88TedjRw5knr16lV8QKWSKyoqUkaNGqVcuXJFKSwsVCZMmKBcvHjR0rHuaMSIEUpGRoalY9zm5MmTypkzZ5Tx48cXP7dx40Zl+/btiqIoyvbt25WNGzdaKt4t7pQ1Ojpa2bFjhwVT3U6v1ytnzpxRFEVRcnNzlTFjxigXL160uv16t5zWtk9NJpNiMBgURVGUwsJCJTQ0VDl9+rQSERGh/PDDD4qiKMqaNWuUXbt2WTLmXXOuWLFC+fHHHy2aTVEUpdIfMkpMTKRGjRpUr14drVZLhw4diI2NtXQsm9KkSZPb/kqNjY2lS5cuAHTp0sVq9umdslojLy+v4pOITk5O1KpVC71eb3X79W45rY1KpSqe5bOoqIiioiJUKhUnT56kffv2AHTt2tXi+/NuOa1FpT9kpNfr0el0xY91Oh0JCQkWTPTPwsLCAOjRowdBQUEWTnN3GRkZeHl5ATd+aWRmZlo40T/btWsX+/fvp379+gwePNiqSiMlJYVz587RoEEDq96vf8156tQpq9unJpOJt99+mytXrvDYY49RvXp1nJ2d0Wg0AHh7e1tFmf095wMPPMDu3bvZsmUL27Zto1mzZgwcOBA7O7sKz1bpC0G5w0VU1tTIf/XOO+/g7e1NRkYGs2fPpmbNmjRp0sTSsWxez5496devHwDR0dF88MEHjBgxwsKpbsjLyyMiIoIhQ4YUHz+2Rn/PaY37VK1Ws3DhQnJycggPD+fy5csWzXM3f8/5xx9/8MILL+Dp6YnRaGTNmjXs2LGjeP9WaLYKf8cKptPpSEtLK36clpZW/BeYtfH29gbAw8ODhx9+mMTERAsnujsPDw/S09MBSE9PLz65aI08PT1Rq9Wo1Wq6d+/OmTNnLB0JuPHtVhEREXTq1Il27doB1rlf75TTWvcpgIuLC02aNCEhIYHc3FyKioqAG0cLbv6MWYObOePi4vDy8kKlUmFnZ0dgYKDFfvYrfSH4+/uTnJxMSkoKRqORQ4cOERAQYOlYt8nLy8NgMBT/9/Hjx6lTp46FU91dQEAA+/btA2Dfvn08/PDDFk50dzd/wQL8/PPP+Pn5WTDNDYqisHr1amrVqsV//vOf4uetbb/eLae17dPMzExycnKAG1fy/Pbbb9SqVYumTZty+PBhAPbu3Wvxn/275by5PxVFITY21mL7s0rcmPbLL78QFRWFyWQiMDCQPn36WDrSba5evUp4eDhw42RTx44drSbnkiVLiI+PJysrCw8PD/r378/DDz/M4sWLSU1NxcfHh/Hjx1v8GPLdsp48eZLz58+jUqmoVq0aw4YNs/go8dSpU0ybNo06deoUH8J8/vnneeCBB6xqv94t58GDB61qn164cIHIyEhMJhOKovDII4/Qr18/rl69ettlp5Y4Nl9SzpkzZxafL6pbty7Dhg27p6/CLKsqUQhCCCFKVukPGQkhhCgdKQQhhBCAFIIQQog/SSEIIYQApBCEEEL8SQpBCCEEIIUghBDiT1IIQgghAPg/xIWZdEu7IFEAAAAASUVORK5CYII=\n",
      "text/plain": [
       "<Figure size 432x288 with 1 Axes>"
      ]
     },
     "metadata": {},
     "output_type": "display_data"
    }
   ],
   "source": [
    "plt.style.use('ggplot')\n",
    "plt.plot(result, c='r', label=\"Predicted\")\n",
    "plt.plot(y_test, c='b', label=\"Original\")\n",
    "plt.legend(loc =\"lower right\") \n",
    "plt.show()"
   ]
  },
  {
   "cell_type": "code",
   "execution_count": 20,
   "metadata": {},
   "outputs": [],
   "source": [
    "# Testing the model with untrained dataset X_test \n",
    "\n",
    "result_01 = model.predict(X_test).flatten()"
   ]
  },
  {
   "cell_type": "code",
   "execution_count": 30,
   "metadata": {},
   "outputs": [
    {
     "data": {
      "text/plain": [
       "array([190., 191., 192., 193., 194., 195., 196., 197., 198., 199.],\n",
       "      dtype=float32)"
      ]
     },
     "execution_count": 30,
     "metadata": {},
     "output_type": "execute_result"
    }
   ],
   "source": [
    "# adjusting predicited Y_test values by rounding and adding 0.2\n",
    "\n",
    "np.round(result_01*w+0.2)"
   ]
  },
  {
   "cell_type": "code",
   "execution_count": 31,
   "metadata": {},
   "outputs": [
    {
     "data": {
      "text/plain": [
       "array([190., 191., 192., 193., 194., 195., 196., 197., 198., 199.])"
      ]
     },
     "execution_count": 31,
     "metadata": {},
     "output_type": "execute_result"
    }
   ],
   "source": [
    "(Y_test*w).flatten()"
   ]
  },
  {
   "cell_type": "code",
   "execution_count": null,
   "metadata": {},
   "outputs": [],
   "source": []
  },
  {
   "cell_type": "code",
   "execution_count": null,
   "metadata": {},
   "outputs": [],
   "source": []
  },
  {
   "cell_type": "code",
   "execution_count": null,
   "metadata": {},
   "outputs": [],
   "source": []
  },
  {
   "cell_type": "code",
   "execution_count": 32,
   "metadata": {},
   "outputs": [],
   "source": [
    "# Basic Normalization with own generated dataset"
   ]
  },
  {
   "cell_type": "code",
   "execution_count": 33,
   "metadata": {},
   "outputs": [
    {
     "data": {
      "text/plain": [
       "array([[ 0.,  1.,  2.,  3.,  4.,  5.,  6.,  7.,  8.,  9.],\n",
       "       [10., 11., 12., 13., 14., 15., 16., 17., 18., 19.]])"
      ]
     },
     "execution_count": 33,
     "metadata": {},
     "output_type": "execute_result"
    }
   ],
   "source": [
    "data_01 = np.arange(0,20)\n",
    "data_01 = np.array(data_01, dtype=float)\n",
    "data_01.reshape(-1,10)"
   ]
  },
  {
   "cell_type": "code",
   "execution_count": 34,
   "metadata": {},
   "outputs": [
    {
     "name": "stdout",
     "output_type": "stream",
     "text": [
      "[[0.         0.02012109 0.04024218 0.06036327 0.08048436 0.10060545\n",
      "  0.12072655 0.14084764 0.16096873 0.18108982 0.20121091 0.221332\n",
      "  0.24145309 0.26157418 0.28169527 0.30181636 0.32193745 0.34205855\n",
      "  0.36217964 0.38230073]]\n"
     ]
    }
   ],
   "source": [
    "# normalized with build-in Normalizer function with \"norm =l2\"\n",
    "\n",
    "data_01_scaled = Normalizer(norm='l2').fit_transform(data_01.reshape(1,-1))\n",
    "print(data_01_scaled)"
   ]
  },
  {
   "cell_type": "code",
   "execution_count": 35,
   "metadata": {},
   "outputs": [
    {
     "name": "stdout",
     "output_type": "stream",
     "text": [
      "[0.         0.02012109 0.04024218 0.06036327 0.08048436 0.10060545\n",
      " 0.12072655 0.14084764 0.16096873 0.18108982 0.20121091 0.221332\n",
      " 0.24145309 0.26157418 0.28169527 0.30181636 0.32193745 0.34205855\n",
      " 0.36217964 0.38230073]\n"
     ]
    }
   ],
   "source": [
    "# Manually normalization\n",
    "\n",
    "w1 = np.sqrt(sum(data_01**2))\n",
    "data_01_norm = data_01/w1\n",
    "print(data_01_norm)"
   ]
  },
  {
   "cell_type": "code",
   "execution_count": 36,
   "metadata": {},
   "outputs": [
    {
     "data": {
      "text/plain": [
       "array([[ 0.,  1.,  2.,  3.,  4.,  5.,  6.,  7.,  8.,  9., 10., 11., 12.,\n",
       "        13., 14., 15., 16., 17., 18., 19.]])"
      ]
     },
     "execution_count": 36,
     "metadata": {},
     "output_type": "execute_result"
    }
   ],
   "source": [
    "data_01_scaled*w1"
   ]
  },
  {
   "cell_type": "code",
   "execution_count": 37,
   "metadata": {},
   "outputs": [
    {
     "name": "stdout",
     "output_type": "stream",
     "text": [
      "[[0.         0.00526316 0.01052632 0.01578947 0.02105263 0.02631579\n",
      "  0.03157895 0.03684211 0.04210526 0.04736842 0.05263158 0.05789474\n",
      "  0.06315789 0.06842105 0.07368421 0.07894737 0.08421053 0.08947368\n",
      "  0.09473684 0.1       ]]\n"
     ]
    }
   ],
   "source": [
    "# normalized with build-in Normalizer function with \"norm =l1\"\n",
    "\n",
    "data_02_scaled = Normalizer(norm='l1').fit_transform(data_01.reshape(1,-1))\n",
    "print(data_02_scaled)"
   ]
  },
  {
   "cell_type": "code",
   "execution_count": 38,
   "metadata": {},
   "outputs": [
    {
     "name": "stdout",
     "output_type": "stream",
     "text": [
      "[0.         0.00526316 0.01052632 0.01578947 0.02105263 0.02631579\n",
      " 0.03157895 0.03684211 0.04210526 0.04736842 0.05263158 0.05789474\n",
      " 0.06315789 0.06842105 0.07368421 0.07894737 0.08421053 0.08947368\n",
      " 0.09473684 0.1       ]\n"
     ]
    }
   ],
   "source": [
    "# Manually normalization\n",
    "\n",
    "w2 = np.sum(data_01)\n",
    "data_02_norm = data_01/w2\n",
    "print(data_02_norm)"
   ]
  },
  {
   "cell_type": "code",
   "execution_count": 39,
   "metadata": {},
   "outputs": [
    {
     "data": {
      "text/plain": [
       "array([[ 0.,  1.,  2.,  3.,  4.,  5.,  6.,  7.,  8.,  9., 10., 11., 12.,\n",
       "        13., 14., 15., 16., 17., 18., 19.]])"
      ]
     },
     "execution_count": 39,
     "metadata": {},
     "output_type": "execute_result"
    }
   ],
   "source": [
    "data_02_scaled*w2"
   ]
  },
  {
   "cell_type": "code",
   "execution_count": 40,
   "metadata": {},
   "outputs": [
    {
     "name": "stdout",
     "output_type": "stream",
     "text": [
      "[[0.         0.05263158 0.10526316 0.15789474 0.21052632 0.26315789\n",
      "  0.31578947 0.36842105 0.42105263 0.47368421 0.52631579 0.57894737\n",
      "  0.63157895 0.68421053 0.73684211 0.78947368 0.84210526 0.89473684\n",
      "  0.94736842 1.        ]]\n"
     ]
    }
   ],
   "source": [
    "# normalized with build-in Normalizer function with \"norm =max\"\n",
    "\n",
    "data_03_scaled = Normalizer(norm='max').fit_transform(data_01.reshape(1,-1))\n",
    "print(data_03_scaled)"
   ]
  },
  {
   "cell_type": "code",
   "execution_count": 41,
   "metadata": {},
   "outputs": [
    {
     "name": "stdout",
     "output_type": "stream",
     "text": [
      "[0.         0.05263158 0.10526316 0.15789474 0.21052632 0.26315789\n",
      " 0.31578947 0.36842105 0.42105263 0.47368421 0.52631579 0.57894737\n",
      " 0.63157895 0.68421053 0.73684211 0.78947368 0.84210526 0.89473684\n",
      " 0.94736842 1.        ]\n"
     ]
    }
   ],
   "source": [
    "# Manually normalization\n",
    "\n",
    "w3 = np.max(data_01)\n",
    "data_03_norm = data_01/w3\n",
    "print(data_03_norm)"
   ]
  },
  {
   "cell_type": "code",
   "execution_count": 42,
   "metadata": {},
   "outputs": [
    {
     "data": {
      "text/plain": [
       "array([[ 0.,  1.,  2.,  3.,  4.,  5.,  6.,  7.,  8.,  9., 10., 11., 12.,\n",
       "        13., 14., 15., 16., 17., 18., 19.]])"
      ]
     },
     "execution_count": 42,
     "metadata": {},
     "output_type": "execute_result"
    }
   ],
   "source": [
    "data_03_scaled*w3"
   ]
  },
  {
   "cell_type": "code",
   "execution_count": null,
   "metadata": {},
   "outputs": [],
   "source": []
  }
 ],
 "metadata": {
  "kernelspec": {
   "display_name": "Python 3",
   "language": "python",
   "name": "python3"
  },
  "language_info": {
   "codemirror_mode": {
    "name": "ipython",
    "version": 3
   },
   "file_extension": ".py",
   "mimetype": "text/x-python",
   "name": "python",
   "nbconvert_exporter": "python",
   "pygments_lexer": "ipython3",
   "version": "3.7.3"
  }
 },
 "nbformat": 4,
 "nbformat_minor": 2
}
