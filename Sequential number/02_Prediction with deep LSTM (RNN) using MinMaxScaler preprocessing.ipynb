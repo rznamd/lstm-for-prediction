{
 "cells": [
  {
   "cell_type": "code",
   "execution_count": 1,
   "metadata": {},
   "outputs": [],
   "source": [
    "# importing necessary libraries\n",
    "\n",
    "import matplotlib.pyplot as plt\n",
    "import numpy as np\n",
    "%matplotlib inline\n",
    "\n",
    "from tensorflow import keras\n",
    "from sklearn.preprocessing import MinMaxScaler\n",
    "from sklearn.model_selection import train_test_split"
   ]
  },
  {
   "cell_type": "code",
   "execution_count": 2,
   "metadata": {},
   "outputs": [],
   "source": [
    "# Building synthetic chronological series of numbers dataset\n",
    "\n",
    "data = np.arange(0,200)\n",
    "data = np.array(data, dtype=float)"
   ]
  },
  {
   "cell_type": "code",
   "execution_count": 3,
   "metadata": {},
   "outputs": [],
   "source": [
    "# Scaling down the raw data with MinMaxScaler()\n",
    "\n",
    "scaler = MinMaxScaler(feature_range=(0.01, 1))\n",
    "data_scaled = scaler.fit_transform(data.reshape(-1,1))"
   ]
  },
  {
   "cell_type": "code",
   "execution_count": 4,
   "metadata": {},
   "outputs": [],
   "source": [
    "data_scaled = data_scaled.flatten()"
   ]
  },
  {
   "cell_type": "code",
   "execution_count": 5,
   "metadata": {},
   "outputs": [],
   "source": [
    "# Splitting the scaled data into training dataset\n",
    "\n",
    "training_dataset = data_scaled[:-10]"
   ]
  },
  {
   "cell_type": "code",
   "execution_count": 6,
   "metadata": {},
   "outputs": [],
   "source": [
    "# Splitting the scaled data into test dataset, this dataset won't be used in LSTM model training\n",
    "\n",
    "test_dataset = data_scaled[-15:]"
   ]
  },
  {
   "cell_type": "code",
   "execution_count": 7,
   "metadata": {},
   "outputs": [
    {
     "name": "stdout",
     "output_type": "stream",
     "text": [
      "X.Shape: (185, 5, 1) Y.Shape: (185,)\n"
     ]
    }
   ],
   "source": [
    "# Preparing the training dataset for LSTM input \n",
    "\n",
    "T = 5\n",
    "X = []\n",
    "Y = []\n",
    "\n",
    "for t in range(len(training_dataset)-T):\n",
    "  x = training_dataset[t:t+T]\n",
    "  X.append(x)\n",
    "  y = training_dataset[t+T]\n",
    "  Y.append(y)\n",
    "X = np.array(X).reshape(-1, T, 1)\n",
    "Y = np.array(Y)\n",
    "N = len(X)\n",
    "print(\"X.Shape:\",X.shape, \"Y.Shape:\", Y.shape)"
   ]
  },
  {
   "cell_type": "code",
   "execution_count": 8,
   "metadata": {},
   "outputs": [
    {
     "name": "stdout",
     "output_type": "stream",
     "text": [
      "X_test.Shape: (10, 5, 1) Y_test.Shape: (10,)\n"
     ]
    }
   ],
   "source": [
    "# Preparing the test dataset for series of numbers prediction with LSTM trained model \n",
    "\n",
    "T = 5\n",
    "X_test = []\n",
    "Y_test = []\n",
    "\n",
    "for t in range(len(test_dataset)-T):\n",
    "  x = test_dataset[t:t+T]\n",
    "  X_test.append(x)\n",
    "  y = test_dataset[t+T]\n",
    "  Y_test.append(y)\n",
    "X_test = np.array(X_test).reshape(-1, T, 1)\n",
    "Y_test = np.array(Y_test)\n",
    "NN = len(X_test)\n",
    "\n",
    "print(\"X_test.Shape:\",X_test.shape, \"Y_test.Shape:\", Y_test.shape)"
   ]
  },
  {
   "cell_type": "code",
   "execution_count": 9,
   "metadata": {},
   "outputs": [
    {
     "name": "stdout",
     "output_type": "stream",
     "text": [
      "x_train.shape: (148, 5, 1) x_test.shape: (37, 5, 1) y_train.shape: (148,) y_test.shape: (37,)\n"
     ]
    }
   ],
   "source": [
    "# Splitting training dataset again into x_train, x_test, y_train, y_test\n",
    "\n",
    "x_train, x_test, y_train, y_test = train_test_split(X, Y, test_size=0.2, shuffle=False)\n",
    "print(\"x_train.shape:\",x_train.shape, \"x_test.shape:\",x_test.shape, \"y_train.shape:\",y_train.shape, \"y_test.shape:\",y_test.shape)"
   ]
  },
  {
   "cell_type": "code",
   "execution_count": 37,
   "metadata": {},
   "outputs": [],
   "source": [
    "# Building LSTM model \n",
    "\n",
    "model = keras.Sequential()\n",
    "model.add(keras.layers.LSTM((20), batch_input_shape=(None,5,1), return_sequences=True))\n",
    "model.add(keras.layers.LSTM((1), activation='relu', return_sequences=False))\n",
    "model.compile(loss='mean_absolute_error', optimizer='adam', metrics=['accuracy'])"
   ]
  },
  {
   "cell_type": "code",
   "execution_count": 38,
   "metadata": {},
   "outputs": [
    {
     "name": "stdout",
     "output_type": "stream",
     "text": [
      "Model: \"sequential_4\"\n",
      "_________________________________________________________________\n",
      "Layer (type)                 Output Shape              Param #   \n",
      "=================================================================\n",
      "lstm_8 (LSTM)                (None, 5, 20)             1760      \n",
      "_________________________________________________________________\n",
      "lstm_9 (LSTM)                (None, 1)                 88        \n",
      "=================================================================\n",
      "Total params: 1,848\n",
      "Trainable params: 1,848\n",
      "Non-trainable params: 0\n",
      "_________________________________________________________________\n"
     ]
    }
   ],
   "source": [
    "model.summary()"
   ]
  },
  {
   "cell_type": "code",
   "execution_count": 39,
   "metadata": {},
   "outputs": [
    {
     "name": "stdout",
     "output_type": "stream",
     "text": [
      "Train on 148 samples, validate on 37 samples\n",
      "Epoch 1/1000\n",
      "148/148 [==============================] - 2s 11ms/sample - loss: 0.3940 - acc: 0.0000e+00 - val_loss: 0.8291 - val_acc: 0.0000e+00\n",
      "Epoch 2/1000\n",
      "148/148 [==============================] - 0s 256us/sample - loss: 0.3726 - acc: 0.0000e+00 - val_loss: 0.7912 - val_acc: 0.0000e+00\n",
      "Epoch 3/1000\n",
      "148/148 [==============================] - 0s 303us/sample - loss: 0.3474 - acc: 0.0000e+00 - val_loss: 0.7485 - val_acc: 0.0000e+00\n",
      "Epoch 4/1000\n",
      "148/148 [==============================] - 0s 251us/sample - loss: 0.3203 - acc: 0.0000e+00 - val_loss: 0.6998 - val_acc: 0.0000e+00\n",
      "Epoch 5/1000\n",
      "148/148 [==============================] - 0s 263us/sample - loss: 0.2904 - acc: 0.0000e+00 - val_loss: 0.6429 - val_acc: 0.0000e+00\n"
     ]
    },
    {
     "name": "stdout",
     "output_type": "stream",
     "text": [
      "Epoch 995/1000\n",
      "148/148 [==============================] - 0s 243us/sample - loss: 7.6213e-04 - acc: 0.0000e+00 - val_loss: 0.0045 - val_acc: 0.0000e+00\n",
      "Epoch 996/1000\n",
      "148/148 [==============================] - 0s 236us/sample - loss: 0.0020 - acc: 0.0000e+00 - val_loss: 0.0014 - val_acc: 0.0000e+00\n",
      "Epoch 997/1000\n",
      "148/148 [==============================] - 0s 256us/sample - loss: 7.2267e-04 - acc: 0.0000e+00 - val_loss: 0.0030 - val_acc: 0.0000e+00\n",
      "Epoch 998/1000\n",
      "148/148 [==============================] - 0s 243us/sample - loss: 6.1944e-04 - acc: 0.0000e+00 - val_loss: 0.0023 - val_acc: 0.0000e+00\n",
      "Epoch 999/1000\n",
      "148/148 [==============================] - 0s 236us/sample - loss: 9.9152e-04 - acc: 0.0000e+00 - val_loss: 0.0011 - val_acc: 0.0000e+00\n",
      "Epoch 1000/1000\n",
      "148/148 [==============================] - 0s 249us/sample - loss: 0.0017 - acc: 0.0000e+00 - val_loss: 0.0032 - val_acc: 0.0000e+00\n"
     ]
    }
   ],
   "source": [
    "# Fitting splitted dataset into the model\n",
    "\n",
    "r = model.fit(x_train.reshape(148,5,1), y_train, epochs=1000, validation_data=(x_test.reshape(37,5,1), y_test))"
   ]
  },
  {
   "cell_type": "code",
   "execution_count": 40,
   "metadata": {
    "scrolled": true
   },
   "outputs": [
    {
     "data": {
      "image/png": "[encoded data removed]",
      "text/plain": [
       "<Figure size 432x288 with 1 Axes>"
      ]
     },
     "metadata": {},
     "output_type": "display_data"
    }
   ],
   "source": [
    "plt.style.use('ggplot')\n",
    "plt.plot(r.history['loss'], label=\"Loss\")\n",
    "plt.plot(r.history['val_loss'], label=\"Val Loss\")\n",
    "plt.legend()\n",
    "plt.show()"
   ]
  },
  {
   "cell_type": "code",
   "execution_count": 41,
   "metadata": {},
   "outputs": [],
   "source": [
    "# Predicting y_test when x_test is feeded into the model\n",
    "\n",
    "result = model.predict(x_test.reshape(37,5,1))"
   ]
  },
  {
   "cell_type": "code",
   "execution_count": 42,
   "metadata": {},
   "outputs": [
    {
     "data": {
      "text/plain": [
       "array([153.80191, 154.7991 , 155.79587, 156.79222, 157.78816, 158.78365,\n",
       "       159.77869, 160.77327, 161.7674 , 162.761  , 163.7542 , 164.74687,\n",
       "       165.73907, 166.73074, 167.72186, 168.7125 , 169.70262, 170.69215,\n",
       "       171.68114, 172.66957, 173.65744, 174.64471, 175.63144, 176.61752,\n",
       "       177.60301, 178.58789, 179.57217, 180.55576, 181.53874, 182.5211 ,\n",
       "       183.50278, 184.48375, 185.46411, 186.44374, 187.42268, 188.40094,\n",
       "       189.37848], dtype=float32)"
      ]
     },
     "execution_count": 42,
     "metadata": {},
     "output_type": "execute_result"
    }
   ],
   "source": [
    "# reversing predicted y_test values \n",
    "\n",
    "scaler.inverse_transform(result).flatten()"
   ]
  },
  {
   "cell_type": "code",
   "execution_count": 43,
   "metadata": {},
   "outputs": [
    {
     "data": {
      "text/plain": [
       "array([154., 155., 156., 157., 158., 159., 160., 161., 162., 163., 164.,\n",
       "       165., 166., 167., 168., 169., 170., 171., 172., 173., 174., 175.,\n",
       "       176., 177., 178., 179., 180., 181., 182., 183., 184., 184., 185.,\n",
       "       186., 187., 188., 189.], dtype=float32)"
      ]
     },
     "execution_count": 43,
     "metadata": {},
     "output_type": "execute_result"
    }
   ],
   "source": [
    "# adjusting predicited y_test values by rounding\n",
    "\n",
    "np.round(scaler.inverse_transform(result).flatten())"
   ]
  },
  {
   "cell_type": "code",
   "execution_count": 44,
   "metadata": {},
   "outputs": [
    {
     "data": {
      "text/plain": [
       "array([153., 154., 155., 156., 157., 158., 159., 160., 161., 162., 163.,\n",
       "       164., 165., 166., 167., 168., 169., 170., 171., 172., 173., 174.,\n",
       "       175., 176., 177., 178., 179., 180., 181., 182., 183., 184., 185.,\n",
       "       186., 187., 188., 189.])"
      ]
     },
     "execution_count": 44,
     "metadata": {},
     "output_type": "execute_result"
    }
   ],
   "source": [
    "# look into original y_test values\n",
    "\n",
    "scaler.inverse_transform(y_test.reshape(-1,1)).flatten()"
   ]
  },
  {
   "cell_type": "code",
   "execution_count": 45,
   "metadata": {},
   "outputs": [
    {
     "data": {
      "image/png": "[encoded data removed]",
      "text/plain": [
       "<Figure size 432x288 with 1 Axes>"
      ]
     },
     "metadata": {},
     "output_type": "display_data"
    }
   ],
   "source": [
    "plt.style.use('ggplot')\n",
    "plt.scatter(range(37), result, c='r', label=\"Predicted\")\n",
    "plt.scatter(range(37),y_test, c='b', label=\"Original\")\n",
    "plt.legend(loc =\"lower right\")\n",
    "plt.show()"
   ]
  },
  {
   "cell_type": "code",
   "execution_count": 46,
   "metadata": {},
   "outputs": [
    {
     "data": {
      "image/png": "[encoded data removed]",
      "text/plain": [
       "<Figure size 432x288 with 1 Axes>"
      ]
     },
     "metadata": {},
     "output_type": "display_data"
    }
   ],
   "source": [
    "plt.style.use('ggplot')\n",
    "plt.plot(result, c='r', label=\"Predicted\")\n",
    "plt.plot(y_test, c='b', label=\"Original\")\n",
    "plt.legend(loc =\"lower right\") \n",
    "plt.show()"
   ]
  },
  {
   "cell_type": "code",
   "execution_count": 47,
   "metadata": {},
   "outputs": [],
   "source": [
    "# Testing the model with untrain dataset X_test \n",
    "\n",
    "result_01 = model.predict(X_test).flatten()"
   ]
  },
  {
   "cell_type": "code",
   "execution_count": 48,
   "metadata": {},
   "outputs": [
    {
     "data": {
      "text/plain": [
       "array([0.9569937 , 0.9618495 , 0.9667018 , 0.9715503 , 0.976395  ,\n",
       "       0.9812359 , 0.98607314, 0.99090636, 0.9957356 , 1.000561  ],\n",
       "      dtype=float32)"
      ]
     },
     "execution_count": 48,
     "metadata": {},
     "output_type": "execute_result"
    }
   ],
   "source": [
    "result_01"
   ]
  },
  {
   "cell_type": "code",
   "execution_count": 49,
   "metadata": {},
   "outputs": [
    {
     "data": {
      "text/plain": [
       "array([190., 191., 192., 193., 194., 195., 196., 197., 198., 199.],\n",
       "      dtype=float32)"
      ]
     },
     "execution_count": 49,
     "metadata": {},
     "output_type": "execute_result"
    }
   ],
   "source": [
    "# adjusting predicited Y_test values by rounding  \n",
    "\n",
    "np.round(scaler.inverse_transform(result_01.reshape(-1,1)).flatten())"
   ]
  },
  {
   "cell_type": "code",
   "execution_count": 50,
   "metadata": {},
   "outputs": [
    {
     "data": {
      "text/plain": [
       "array([190., 191., 192., 193., 194., 195., 196., 197., 198., 199.])"
      ]
     },
     "execution_count": 50,
     "metadata": {},
     "output_type": "execute_result"
    }
   ],
   "source": [
    "# look into original y_test values\n",
    "\n",
    "scaler.inverse_transform(Y_test.reshape(-1,1)).flatten()"
   ]
  },
  {
   "cell_type": "code",
   "execution_count": 51,
   "metadata": {},
   "outputs": [
    {
     "data": {
      "image/png": "[encoded data removed]",
      "text/plain": [
       "<Figure size 432x288 with 1 Axes>"
      ]
     },
     "metadata": {},
     "output_type": "display_data"
    }
   ],
   "source": [
    "plt.style.use('ggplot')\n",
    "plt.scatter(range(10), result_01, c='r', label=\"Predicted\")\n",
    "plt.scatter(range(10),Y_test, c='b', label=\"Original\")\n",
    "plt.legend(loc =\"lower right\")\n",
    "plt.show()"
   ]
  },
  {
   "cell_type": "code",
   "execution_count": 52,
   "metadata": {
    "scrolled": true
   },
   "outputs": [
    {
     "data": {
      "image/png": "[encoded data removed]",
      "text/plain": [
       "<Figure size 432x288 with 1 Axes>"
      ]
     },
     "metadata": {},
     "output_type": "display_data"
    }
   ],
   "source": [
    "plt.style.use('ggplot')\n",
    "plt.scatter(range(10), (np.round(scaler.inverse_transform(result_01.reshape(-1,1)))), c='r', label=\"Predicted\")\n",
    "plt.scatter(range(10),(scaler.inverse_transform(Y_test.reshape(-1,1))), c='b', label=\"Original\")\n",
    "plt.legend(loc =\"lower right\")\n",
    "plt.show()"
   ]
  },
  {
   "cell_type": "code",
   "execution_count": null,
   "metadata": {},
   "outputs": [],
   "source": []
  }
 ],
 "metadata": {
  "kernelspec": {
   "display_name": "Python 3",
   "language": "python",
   "name": "python3"
  },
  "language_info": {
   "codemirror_mode": {
    "name": "ipython",
    "version": 3
   },
   "file_extension": ".py",
   "mimetype": "text/x-python",
   "name": "python",
   "nbconvert_exporter": "python",
   "pygments_lexer": "ipython3",
   "version": "3.7.3"
  }
 },
 "nbformat": 4,
 "nbformat_minor": 2
}
