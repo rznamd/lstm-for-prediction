{
 "cells": [
  {
   "cell_type": "code",
   "execution_count": null,
   "metadata": {},
   "outputs": [],
   "source": [
    "import numpy as np\n",
    "import matplotlib.pyplot as plt\n",
    "%matplotlib inline\n",
    "\n",
    "from tensorflow import keras\n",
    "from sklearn.preprocessing import StandardScaler\n",
    "from sklearn.model_selection import train_test_split\n",
    "\n",
    "from keras.optimizers import Adam\n",
    "from keras.models import Sequential, Model\n",
    "from keras.layers import LSTM, Dense, Flatten, TimeDistributed, Conv1D, MaxPooling1D, Concatenate, Input"
   ]
  },
  {
   "cell_type": "code",
   "execution_count": null,
   "metadata": {},
   "outputs": [],
   "source": [
    "# Building synthetic chronological series of numbers dataset\n",
    "\n",
    "data = np.arange(0,200)\n",
    "data = np.array(data, dtype=float)"
   ]
  },
  {
   "cell_type": "code",
   "execution_count": null,
   "metadata": {},
   "outputs": [],
   "source": [
    "# Preparing the training dataset for LSTM input \n",
    "\n",
    "T = 5\n",
    "X = []\n",
    "Y = []\n",
    "\n",
    "for t in range(len(data)-T):\n",
    "  x = data[t:t+T]\n",
    "  X.append(x)\n",
    "  y = data[t+T]\n",
    "  Y.append(y)\n",
    "X = np.array(X).reshape(-1, T, 1)\n",
    "Y = np.array(Y)\n",
    "N = len(X)\n",
    "print(\"X.Shape:\",X.shape, \"Y.Shape:\", Y.shape)"
   ]
  },
  {
   "cell_type": "code",
   "execution_count": null,
   "metadata": {},
   "outputs": [],
   "source": [
    "# Preparing the training dataset for LSTM input2 \n",
    "\n",
    "T = 5\n",
    "XX = []\n",
    "\n",
    "for t in range(len(data)-T):\n",
    "  x = data[t:t+T]\n",
    "  XX.append(x)\n",
    "XX = np.array(XX).reshape(-1, T, 1)\n",
    "print(\"XX.Shape:\",XX.shape)"
   ]
  },
  {
   "cell_type": "code",
   "execution_count": null,
   "metadata": {
    "scrolled": false
   },
   "outputs": [],
   "source": [
    "model.fit(X, Y, epochs=10)"
   ]
  },
  {
   "cell_type": "code",
   "execution_count": null,
   "metadata": {},
   "outputs": [],
   "source": [
    "# Building simple ANN model \n",
    "\n",
    "model = Sequential()\n",
    "model.add(Dense(100, activation='relu', input_shape=(5,)))\n",
    "model.add(Dense(1))\n",
    "model.compile(optimizer='adam', loss='mse')"
   ]
  },
  {
   "cell_type": "code",
   "execution_count": null,
   "metadata": {},
   "outputs": [],
   "source": [
    "# Building LSTM model with Single input\n",
    "\n",
    "model = Sequential()\n",
    "model.add(LSTM((70), batch_input_shape=(None,5,1), return_sequences=True))\n",
    "model.add(LSTM((1), activation='relu', return_sequences=False))\n",
    "model.compile(loss='mean_absolute_error', optimizer='adam', metrics=['accuracy'])"
   ]
  },
  {
   "cell_type": "code",
   "execution_count": null,
   "metadata": {},
   "outputs": [],
   "source": [
    "# Building Basic Model CNN with Single input\n",
    "\n",
    "model = Sequential()\n",
    "model.add(Conv1D(filters=100, kernel_size=2, activation='relu', input_shape=(5,1)))\n",
    "model.add(MaxPooling1D(pool_size=2))\n",
    "model.add(Flatten())\n",
    "\n",
    "model.add(Dense(60, activation='relu'))\n",
    "model.add(Dense(1))\n",
    "\n",
    "model.compile(optimizer='adam', loss='mse')"
   ]
  },
  {
   "cell_type": "code",
   "execution_count": null,
   "metadata": {},
   "outputs": [],
   "source": [
    "# Building Model CNN+LSTM with Single input\n",
    "\n",
    "model = Sequential()\n",
    "model.add(Conv1D(filters=10, kernel_size=2, activation='relu', input_shape=(5,1)))\n",
    "model.add(MaxPooling1D(pool_size=2))\n",
    "\n",
    "model.add(LSTM(44, activation='selu' ))\n",
    "\n",
    "model.add(Dense(1))\n",
    "\n",
    "model.compile(optimizer='adam', loss='mse')\n",
    "model.summary()"
   ]
  },
  {
   "cell_type": "code",
   "execution_count": null,
   "metadata": {},
   "outputs": [],
   "source": [
    "# Building Model CNN+LSTM, multilayer LSTM layer with Single input\n",
    "\n",
    "model = Sequential()\n",
    "model.add(Conv1D(filters=10, kernel_size=2, activation='relu', input_shape=(5,1)))\n",
    "model.add(MaxPooling1D(pool_size=2))\n",
    "\n",
    "model.add(LSTM(44, activation='selu',return_sequences=True ))\n",
    "model.add(LSTM(20, activation='selu',return_sequences=False ))\n",
    "\n",
    "model.add(Dense(1))\n",
    "\n",
    "model.compile(optimizer='adam', loss='mse')"
   ]
  },
  {
   "cell_type": "code",
   "execution_count": null,
   "metadata": {},
   "outputs": [],
   "source": [
    "# Building Model CNN+LSTM, multilayer CNN,LSTM layer with Single input\n",
    "\n",
    "model = Sequential()\n",
    "model.add(Conv1D(filters=10, kernel_size=2, activation='relu', input_shape=(5,1)))\n",
    "model.add(Conv1D(filters=10, kernel_size=2, activation='relu'))\n",
    "model.add(MaxPooling1D(pool_size=2))\n",
    "\n",
    "model.add(LSTM(44, activation='selu',return_sequences=True ))\n",
    "model.add(LSTM(44, activation='selu',return_sequences=True ))\n",
    "model.add(LSTM(20, activation='selu',return_sequences=False ))\n",
    "\n",
    "model.add(Dense(1))\n",
    "\n",
    "model.compile(optimizer='adam', loss='mse')"
   ]
  },
  {
   "cell_type": "code",
   "execution_count": null,
   "metadata": {},
   "outputs": [],
   "source": [
    "# Building LSTM model with Double input\n",
    "\n",
    "input1 = Input(shape=(5,1))\n",
    "x1 = LSTM(30, activation='selu')(input1)\n",
    "\n",
    "input2 = Input(shape=(5,1))\n",
    "x2 = LSTM(30, activation='selu')(input2)\n",
    "\n",
    "\n",
    "# equivalent to `added = tf.keras.layers.add([x1, x2])`\n",
    "\n",
    "added = Concatenate(axis=-1)([x1, x2])\n",
    "out = Dense(1, activation='selu')(added)\n",
    "model = Model(inputs=[input1, input2], outputs=out)\n",
    "\n",
    "model.compile(loss='mean_absolute_error', optimizer=Adam(lr=.001), metrics=['accuracy'])"
   ]
  },
  {
   "cell_type": "code",
   "execution_count": null,
   "metadata": {},
   "outputs": [],
   "source": [
    "# Building CNN+LSTM model with Double input \n",
    "\n",
    "input1 = Input(shape=(5,1))\n",
    "x10 = Conv1D(filters=100, kernel_size=2, activation='relu')(input1)\n",
    "x11 = MaxPooling1D(pool_size=2)(x10)\n",
    "x12 = Flatten()(x11)\n",
    "x1 = Dense(20, activation='relu')(x12)\n",
    "\n",
    "input2 = Input(shape=(5,1))\n",
    "x2 = LSTM(30, activation='selu')(input2)\n",
    "\n",
    "\n",
    "# equivalent to `added = tf.keras.layers.add([x1, x2])`\n",
    "\n",
    "added = Concatenate(axis=-1)([x1, x2])\n",
    "out = Dense(1, activation='selu')(added)\n",
    "model = Model(inputs=[input1, input2], outputs=out)\n",
    "\n",
    "model.compile(loss='mean_absolute_error', optimizer='adam', metrics=['accuracy'])"
   ]
  },
  {
   "cell_type": "code",
   "execution_count": null,
   "metadata": {},
   "outputs": [],
   "source": [
    "# Building Model CNN+LSTM with TimeDistributed, Single input\n",
    "\n",
    "model = Sequential()\n",
    "model.add(TimeDistributed(Conv1D(filters=10, kernel_size=2, activation='relu'), input_shape=(None, 5, 1)))\n",
    "model.add(TimeDistributed(MaxPooling1D(pool_size=2)))\n",
    "model.add(TimeDistributed(Flatten()))\n",
    "\n",
    "model.add(LSTM(44, activation='selu'))\n",
    "\n",
    "model.add(Dense(1))\n",
    "\n",
    "model.compile(optimizer='adam', loss='mse')"
   ]
  },
  {
   "cell_type": "code",
   "execution_count": null,
   "metadata": {},
   "outputs": [],
   "source": [
    "# Building LSTM with multi LSTM layer, RepeatVector and TimeDistributed\n",
    "# X.Shape: (15, 5, 1) Y.Shape: (15, 2, 1)\n",
    "\n",
    "model = Sequential()\n",
    "model.add(LSTM(100, activation='relu', input_shape=(5, 1), return_sequences=True))\n",
    "model.add(LSTM(50, activation='relu', return_sequences=True))\n",
    "model.add(LSTM(45, activation='relu'))\n",
    "model.add(RepeatVector(2))\n",
    "\n",
    "model.add(LSTM(40, activation='relu', return_sequences=True))\n",
    "model.add(LSTM(20, activation='relu', return_sequences=True))\n",
    "\n",
    "\n",
    "\n",
    "model.add(TimeDistributed(Dense(1)))\n",
    "model.compile(optimizer='adam', loss='mse')\n",
    "\n",
    "\n"
   ]
  }
 ],
 "metadata": {
  "kernelspec": {
   "display_name": "Python 3",
   "language": "python",
   "name": "python3"
  },
  "language_info": {
   "codemirror_mode": {
    "name": "ipython",
    "version": 3
   },
   "file_extension": ".py",
   "mimetype": "text/x-python",
   "name": "python",
   "nbconvert_exporter": "python",
   "pygments_lexer": "ipython3",
   "version": "3.7.3"
  }
 },
 "nbformat": 4,
 "nbformat_minor": 2
}
